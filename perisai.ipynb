{
  "nbformat": 4,
  "nbformat_minor": 0,
  "metadata": {
    "colab": {
      "name": "perisai.ipynb",
      "provenance": []
    },
    "kernelspec": {
      "name": "python3",
      "display_name": "Python 3"
    }
  },
  "cells": [
    {
      "cell_type": "code",
      "metadata": {
        "id": "AjLLgJI2Icqy"
      },
      "source": [
        "# library\n",
        "import math\n",
        "from math import log"
      ],
      "execution_count": null,
      "outputs": []
    },
    {
      "cell_type": "code",
      "metadata": {
        "id": "fo1-DQLNugUS",
        "colab": {
          "base_uri": "https://localhost:8080/",
          "height": 153
        },
        "outputId": "7e89d9b3-5781-49f7-e21d-3d8c3bfd1625"
      },
      "source": [
        "# Input\n",
        "a = input (\"Inputkan nilai perbandingan antara radiasi yang dipancarkan dan yang lolos (I0/I)\\n\")\n",
        "e = input (\"\\nInputkan sumber radiasi yang digunakan (ex : Co-60)\\n\")\n",
        "x = input (\"\\nInputkan tebal perisai yang ingin digunakan (cm)\\n\")"
      ],
      "execution_count": null,
      "outputs": [
        {
          "output_type": "stream",
          "text": [
            "Inputkan nilai perbandingan antara radiasi yang dipancarkan dan yang lolos (I0/I)\n",
            "2000\n",
            "\n",
            "Inputkan sumber radiasi yang digunakan (ex : Co-60)\n",
            "K-42\n",
            "\n",
            "Inputkan tebal perisai yang ingin digunakan (cm)\n",
            "6\n"
          ],
          "name": "stdout"
        }
      ]
    },
    {
      "cell_type": "code",
      "metadata": {
        "id": "XqmHjvGYwuaW",
        "colab": {
          "base_uri": "https://localhost:8080/",
          "height": 34
        },
        "outputId": "56154d16-df10-454d-b842-d1bf67832a17"
      },
      "source": [
        "# Expert system energi sumber radiasi (MeV)\n",
        "if e == 'Co-60':\n",
        "    energi = 1.33\n",
        "    print (\"Sumber\", e, \"memiliki energi sebesar\", energi, \"MeV\")\n",
        "elif e == 'K-42':\n",
        "    energi = 1.51\n",
        "    print (\"Sumber\", e, \"memiliki energi sebesar\", energi, \"MeV\")\n",
        "elif e == 'Ca-47':\n",
        "    energi = 1.29\n",
        "    print (\"Sumber\", e, \"memiliki energi sebesar\", energi, \"MeV\")\n",
        "elif e == 'Sc-46':\n",
        "    energi = 1.12\n",
        "    print (\"Sumber\", e, \"memiliki energi sebesar\", energi, \"MeV\")\n",
        "elif e == 'V-48':\n",
        "    energi = 1.32\n",
        "    print (\"Sumber\", e, \"memiliki energi sebesar\", energi, \"MeV\")\n",
        "elif e == 'Cr-51':\n",
        "    energi = 0.32\n",
        "    print (\"Sumber\", e, \"memiliki energi sebesar\", energi, \"MeV\")\n",
        "elif e == 'Mn-52':\n",
        "    energi = 1.46\n",
        "    print (\"Sumber\", e, \"memiliki energi sebesar\", energi, \"MeV\")\n",
        "elif e == 'Mn-54':\n",
        "    energi = 0.84\n",
        "    print (\"Sumber\", e, \"memiliki energi sebesar\", energi, \"MeV\")\n",
        "elif e == 'Mn-56':\n",
        "    energi = 0.84\n",
        "    print (\"Sumber\", e, \"memiliki energi sebesar\", energi, \"MeV\")\n",
        "elif e == 'Fe-59':\n",
        "    energi = 1.1\n",
        "    print (\"Sumber\", e, \"memiliki energi sebesar\", energi, \"MeV\")\n",
        "elif e == 'Co-56':\n",
        "    energi = 1.23\n",
        "    print (\"Sumber\", e, \"memiliki energi sebesar\", energi, \"MeV\")\n",
        "elif e == 'Co-57':\n",
        "    energi = 0.12\n",
        "    print (\"Sumber\", e, \"memiliki energi sebesar\", energi, \"MeV\")\n",
        "elif e == 'Co-58':\n",
        "    energi = 0.81 \n",
        "    print (\"Sumber\", e, \"memiliki energi sebesar\", energi, \"MeV\")\n",
        "elif e == 'Co-60':\n",
        "    energi = 1.33\n",
        "    print (\"Sumber\", e, \"memiliki energi sebesar\", energi, \"MeV\")\n",
        "elif e == 'Ni-65':\n",
        "    energi = 1.12\n",
        "    print (\"Sumber\", e, \"memiliki energi sebesar\", energi, \"MeV\")  \n",
        "elif e == 'Cu-64':\n",
        "    energi = 0.51\n",
        "    print (\"Sumber\", e, \"memiliki energi sebesar\", energi, \"MeV\")\n",
        "elif e == 'Zn-65':\n",
        "    energi = 1.12\n",
        "    print (\"Sumber\", e, \"memiliki energi sebesar\", energi, \"MeV\")\n",
        "elif e == 'Ga-66':\n",
        "    energi = 0.51\n",
        "    print (\"Sumber\", e, \"memiliki energi sebesar\", energi, \"MeV\")\n",
        "elif e == 'Ga-67':\n",
        "    energi = 0.3\n",
        "    print (\"Sumber\", e, \"memiliki energi sebesar\", energi, \"MeV\")\n",
        "elif e == 'Ga-68':\n",
        "    energi = 0.51\n",
        "    print (\"Sumber\", e, \"memiliki energi sebesar\", energi, \"MeV\")\n",
        "elif e == 'Ga-72':\n",
        "    energi = 2.2\n",
        "    print (\"Sumber\", e, \"memiliki energi sebesar\", energi, \"MeV\")\n",
        "elif e == 'As-74':\n",
        "    energi = 0.52\n",
        "    print (\"Sumber\", e, \"memiliki energi sebesar\", energi, \"MeV\")\n",
        "elif e == 'Ga-76':\n",
        "    energi = 0.55\n",
        "    print (\"Sumber\", e, \"memiliki energi sebesar\", energi, \"MeV\")\n",
        "elif e == 'Se-75':\n",
        "    energi = 0.27\n",
        "    print (\"Sumber\", e, \"memiliki energi sebesar\", energi, \"MeV\")\n",
        "elif e == 'Br-82':\n",
        "    energi = 0.77\n",
        "    print (\"Sumber\", e, \"memiliki energi sebesar\", energi, \"MeV\")\n",
        "elif e == 'Zr-95':\n",
        "    energi = 0.75\n",
        "    print (\"Sumber\", e, \"memiliki energi sebesar\", energi, \"MeV\")\n",
        "elif e == 'Nb-95':\n",
        "    energi = 0.75\n",
        "    print (\"Sumber\", e, \"memiliki energi sebesar\", energi, \"MeV\")\n",
        "elif e == 'Mo-99':\n",
        "    energi = 0.14\n",
        "    print (\"Sumber\", e, \"memiliki energi sebesar\", energi, \"MeV\")\n",
        "elif e == 'Ru-103':\n",
        "    energi = 0.49\n",
        "    print (\"Sumber\", e, \"memiliki energi sebesar\", energi, \"MeV\")\n",
        "elif e == 'Rh-105':\n",
        "    energi = 0.3\n",
        "    print (\"Sumber\", e, \"memiliki energi sebesar\", energi, \"MeV\")\n",
        "elif e == 'Pd-109':\n",
        "    energi = 0.09\n",
        "    print (\"Sumber\", e, \"memiliki energi sebesar\", energi, \"MeV\")\n",
        "elif e == 'Ag-111':\n",
        "    energi = 0.34\n",
        "    print (\"Sumber\", e, \"memiliki energi sebesar\", energi, \"MeV\")\n",
        "elif e == 'Sn-113':\n",
        "    energi = 0.39\n",
        "    print (\"Sumber\", e, \"memiliki energi sebesar\", energi, \"MeV\")\n",
        "elif e == 'Sb-112':\n",
        "    energi = 0.57\n",
        "    print (\"Sumber\", e, \"memiliki energi sebesar\", energi, \"MeV\")\n",
        "elif e == 'Sb-124':\n",
        "    energi = 1.71\n",
        "    print (\"Sumber\", e, \"memiliki energi sebesar\", energi, \"MeV\")\n",
        "elif e == 'Sb-125':\n",
        "    energi = 0.6\n",
        "    print (\"Sumber\", e, \"memiliki energi sebesar\", energi, \"MeV\")\n",
        "elif e == 'Te-132':\n",
        "    energi = 0.96\n",
        "    print (\"Sumber\", e, \"memiliki energi sebesar\", energi, \"MeV\")\n",
        "elif e == 'I-123':\n",
        "    energi = 0.16\n",
        "    print (\"Sumber\", e, \"memiliki energi sebesar\", energi, \"MeV\")\n",
        "elif e == 'I-125':\n",
        "    energi = 0.03\n",
        "    print (\"Sumber\", e, \"memiliki energi sebesar\", energi, \"MeV\")\n",
        "elif e == 'I-131':\n",
        "    energi = 0.36\n",
        "    print (\"Sumber\", e, \"memiliki energi sebesar\", energi, \"MeV\")\n",
        "elif e == 'I-132':\n",
        "    energi = 0.67\n",
        "    print (\"Sumber\", e, \"memiliki energi sebesar\", energi, \"MeV\")\n",
        "elif e == 'Xe-133':\n",
        "    energi = 0.08\n",
        "    print (\"Sumber\", e, \"memiliki energi sebesar\", energi, \"MeV\")\n",
        "elif e == 'Cs-134':\n",
        "    energi = 0.8\n",
        "    print (\"Sumber\", e, \"memiliki energi sebesar\", energi, \"MeV\")\n",
        "elif e == 'Cs-137':\n",
        "    energi = 0.662\n",
        "    print (\"Sumber\", e, \"memiliki energi sebesar\", energi, \"MeV\")\n",
        "else :\n",
        "    print (\"Maaf sumber yang anda gunakan tidak ada dalam database\")"
      ],
      "execution_count": null,
      "outputs": [
        {
          "output_type": "stream",
          "text": [
            "Sumber K-42 memiliki energi sebesar 1.51 MeV\n"
          ],
          "name": "stdout"
        }
      ]
    },
    {
      "cell_type": "code",
      "metadata": {
        "id": "lAE3-gWTNtaj",
        "colab": {
          "base_uri": "https://localhost:8080/",
          "height": 34
        },
        "outputId": "43cd62e0-7fb9-4516-e17a-669925fa2473"
      },
      "source": [
        "# Perhitungan\n",
        "b = float (a)\n",
        "tebal = float (x)\n",
        "c = math.log(b)\n",
        "m = c/tebal\n",
        "miu = round(m,2)\n",
        "print ('Koefisien atenuasi sebesar', miu, \"cm^-1\")\n"
      ],
      "execution_count": null,
      "outputs": [
        {
          "output_type": "stream",
          "text": [
            "Koefisien atenuasi sebesar 1.27 cm^-1\n"
          ],
          "name": "stdout"
        }
      ]
    },
    {
      "cell_type": "code",
      "metadata": {
        "id": "Z2Zf_Bua-Y97",
        "colab": {
          "base_uri": "https://localhost:8080/",
          "height": 34
        },
        "outputId": "625da662-4382-4772-86a7-13624555a052"
      },
      "source": [
        "#Expert system untuk menentukan perisai yang digunakan\n",
        "if 0.11664 <= miu <= 2.781 and 0.03 <=  energi <= 3 :\n",
        "    print (\"Perisai yang digunakan dapat berupa aluminium\")\n",
        "elif 0.07986 <= miu <= 2.464 and 0.03 <=  energi <= 3 :\n",
        "    print (\"Perisai yang digunakan dapat berupa concrete\")\n",
        "elif 0.31773 <= miu <= 94.34 and 0.03 <=  energi <= 3 :\n",
        "    print (\"Perisai yang digunakan dapat berupa concrete\")\n",
        "elif 0.28519 <= miu <= 62.252 and 0.03 <=  energi <= 3 :\n",
        "    print (\"Perisai yang digunakan dapat berupa iron\")\n",
        "elif 0.47573 <= miu <= 320.92 and 0.03 <=  energi <= 3 :\n",
        "    print (\"Perisai yang digunakan dapat berupa lead\")\n",
        "elif 0.0396 <= miu <= 0.338 and 0.03 <=  energi <= 3 :\n",
        "    print (\"Perisai yang digunakan dapat berupa concrete\")\n",
        "else :\n",
        "    print (\"Maaf bahan dari perisai yang dapat digunakan belum diketahui\")"
      ],
      "execution_count": null,
      "outputs": [
        {
          "output_type": "stream",
          "text": [
            "Perisai yang digunakan dapat berupa aluminium\n"
          ],
          "name": "stdout"
        }
      ]
    }
  ]
}